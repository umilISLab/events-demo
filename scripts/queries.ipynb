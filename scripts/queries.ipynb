{
 "cells": [
  {
   "cell_type": "markdown",
   "metadata": {},
   "source": [
    "# Examples of Advanced queries with roles"
   ]
  },
  {
   "cell_type": "code",
   "execution_count": 1,
   "metadata": {},
   "outputs": [],
   "source": [
    "import pymongo"
   ]
  },
  {
   "cell_type": "code",
   "execution_count": 2,
   "metadata": {},
   "outputs": [],
   "source": [
    "db = pymongo.MongoClient()['eventnet']['roles']"
   ]
  },
  {
   "cell_type": "markdown",
   "metadata": {},
   "source": [
    "## Query with role\n",
    "\n",
    "Find `SPEECH` where `SPEAKER`"
   ]
  },
  {
   "cell_type": "code",
   "execution_count": 49,
   "metadata": {},
   "outputs": [
    {
     "name": "stdout",
     "output_type": "stream",
     "text": [
      "Document CS_19480215_art0000010\n",
      "----------------\n",
      "SPEECH discorso\n",
      "\t SPEAKER lui suo\n",
      "\t TIME del marzo di settembre\n",
      "\t SPEAKER di Stalin\n",
      "\t TIME del marzo\n",
      "=================\n",
      "Document CS_19480229_art0000012\n",
      "----------------\n",
      "SPEECH None\n",
      "\t SPEAKER il segretario generale sindacale Sailliint\n",
      "=================\n",
      "Document CS_19480212_art0000013\n",
      "----------------\n",
      "SPEECH discorso\n",
      "\t SPEAKER del ministro degli Esteri svedese\n",
      "=================\n",
      "Document CS_19480220_art0000008\n",
      "----------------\n",
      "SPEECH il discorso pronuncia\n",
      "\t TIME ieri sera\n",
      "\t PLACE a Louisville\n",
      "\t SPEAKER da uno dei più alti funzionari del Dipartimento di Stato\n",
      "\t SPEAKER suo\n",
      "\t SPEAKER da Truman\n",
      "\t TIME stasera di stasera\n",
      "\t VENUE al tradizionale banchetto per il Jackson anda Jefferson Day »\n",
      "\t TIME del mese scorso\n",
      "=================\n"
     ]
    }
   ],
   "source": [
    "event = 'SPEECH'\n",
    "role = 'SPEAKER'\n",
    "\n",
    "query = {\n",
    "    'events': {\n",
    "        '$elemMatch': {\n",
    "            'label': event,\n",
    "            'roles': {\n",
    "                '$elemMatch': {'label': role}\n",
    "                }\n",
    "            }\n",
    "        }\n",
    "    }\n",
    "\n",
    "data = list(db.find(query))\n",
    "for e_data in data[:4]:\n",
    "    print(\"Document {}\".format(e_data['id']))\n",
    "    print(\"----------------\")\n",
    "    for e in e_data['events']:\n",
    "        if e['label'] == event:\n",
    "            print(e['label'], e['text'])\n",
    "            for r in e['roles']:\n",
    "                print('\\t', r['label'], r['text'])\n",
    "    print(\"=================\")"
   ]
  },
  {
   "cell_type": "markdown",
   "metadata": {},
   "source": [
    "## Query with role and value\n",
    "\n",
    "Find `SPEECH` where `SPEAKER` is \"Truman\""
   ]
  },
  {
   "cell_type": "code",
   "execution_count": 50,
   "metadata": {},
   "outputs": [
    {
     "name": "stdout",
     "output_type": "stream",
     "text": [
      "Document CS_19480220_art0000008\n",
      "----------------\n",
      "SPEECH il discorso pronuncia\n",
      "\t TIME ieri sera\n",
      "\t PLACE a Louisville\n",
      "\t SPEAKER da uno dei più alti funzionari del Dipartimento di Stato\n",
      "\t SPEAKER suo\n",
      "\t SPEAKER da Truman\n",
      "\t TIME stasera di stasera\n",
      "\t VENUE al tradizionale banchetto per il Jackson anda Jefferson Day »\n",
      "\t TIME del mese scorso\n",
      "=================\n",
      "Document CS_19480319_art0000004\n",
      "----------------\n",
      "SPEECH discorso\n",
      "\t SPEAKER di Truman\n",
      "=================\n",
      "Document CS_19480320_art0000005\n",
      "----------------\n",
      "SPEECH discorso\n",
      "\t SPEAKER suo\n",
      "\t SPEAKER suo\n",
      "\t SPEAKER di Truman\n",
      "\t SPEAKER , segretario del\n",
      "=================\n",
      "Document CS_19480320_art0000010\n",
      "----------------\n",
      "SPEECH discorso\n",
      "\t SPEAKER di Truman\n",
      "=================\n"
     ]
    }
   ],
   "source": [
    "event = 'SPEECH'\n",
    "role = 'SPEAKER'\n",
    "value = 'truman'\n",
    "\n",
    "\n",
    "query = {\n",
    "    'events': {\n",
    "        '$elemMatch': {\n",
    "            'label': event,\n",
    "            'roles': {\n",
    "                '$elemMatch': {\n",
    "                    'label': role,\n",
    "                    'text': {'$regex': '(?i){}'.format(value)}\n",
    "                    }\n",
    "                }\n",
    "            }\n",
    "        }\n",
    "    }\n",
    "\n",
    "data = list(db.find(query))\n",
    "for e_data in data[:4]:\n",
    "    print(\"Document {}\".format(e_data['id']))\n",
    "    print(\"----------------\")\n",
    "    for e in e_data['events']:\n",
    "        if e['label'] == event:\n",
    "            print(e['label'], e['text'])\n",
    "            for r in e['roles']:\n",
    "                print('\\t', r['label'], r['text'])\n",
    "    print(\"=================\")"
   ]
  },
  {
   "cell_type": "markdown",
   "metadata": {},
   "source": [
    "## Query with any role and value\n",
    "\n",
    "Find `SPEECH` where `ANY` is \"stati uniti\""
   ]
  },
  {
   "cell_type": "code",
   "execution_count": 52,
   "metadata": {},
   "outputs": [
    {
     "name": "stdout",
     "output_type": "stream",
     "text": [
      "Document CS_19480210_art0000038\n",
      "----------------\n",
      "SPEECH pronunciare un discorso discorso\n",
      "\t TIME Quella stessa sera\n",
      "\t SPEAKER Roosevelt\n",
      "\t VENUE radio\n",
      "\t TOPIC sulla politica degli i Stati Uniti\n",
      "=================\n",
      "Document CS_19480319_art0000003\n",
      "----------------\n",
      "SPEECH discorso pronunciato\n",
      "\t TIME Ieri\n",
      "\t SPEAKER dal Presidente degli Stati Uniti\n",
      "=================\n",
      "Document CS_19480402_art0000002\n",
      "----------------\n",
      "SPEECH un discorso pronunciato\n",
      "\t PLACE a Madison , nel Wisconsin\n",
      "\t SPEAKER ambasciatore norvegese negli Stati Uniti barone Morgenstierne\n",
      "=================\n",
      "Document CS_19481026_art0000005\n",
      "----------------\n",
      "SPEECH discorso\n",
      "\t SPEAKER del delegato degli Stati Uniti\n",
      "\t CONTAINING_EVENT questa sessione\n",
      "=================\n"
     ]
    }
   ],
   "source": [
    "event = 'SPEECH'\n",
    "value = 'stati uniti'\n",
    "\n",
    "query = {\n",
    "    'events': {\n",
    "        '$elemMatch': {\n",
    "            'label': event,\n",
    "            'roles': {\n",
    "                '$elemMatch': {\n",
    "                    'text': {'$regex': '(?i){}'.format(value)}\n",
    "                    }\n",
    "                }\n",
    "            }\n",
    "        }\n",
    "    }\n",
    "\n",
    "data = list(db.find(query))\n",
    "for e_data in data[:10]:\n",
    "    print(\"Document {}\".format(e_data['id']))\n",
    "    print(\"----------------\")\n",
    "    for e in e_data['events']:\n",
    "        if e['label'] == event:\n",
    "            print(e['label'], e['text'])\n",
    "            for r in e['roles']:\n",
    "                print('\\t', r['label'], r['text'])\n",
    "    print(\"=================\")"
   ]
  },
  {
   "cell_type": "markdown",
   "metadata": {},
   "source": [
    "## Available roles\n",
    "Get the available roles given an event type label\n",
    "\n",
    "E.g., get all the possible roles for the event `SPEECH`"
   ]
  },
  {
   "cell_type": "code",
   "execution_count": 53,
   "metadata": {},
   "outputs": [
    {
     "name": "stdout",
     "output_type": "stream",
     "text": [
      "{'_id': 'SPEAKER', 'count': 1017}\n",
      "{'_id': 'TIME', 'count': 279}\n",
      "{'_id': 'PLACE', 'count': 152}\n",
      "{'_id': 'TOPIC', 'count': 130}\n",
      "{'_id': 'VENUE', 'count': 122}\n",
      "{'_id': 'AUDIENCE', 'count': 60}\n",
      "{'_id': 'CONTAINING_EVENT', 'count': 21}\n",
      "{'_id': 'CONTENT', 'count': 19}\n",
      "{'_id': 'ITERATIONS', 'count': 14}\n",
      "{'_id': 'PRECEDING_EVENT', 'count': 11}\n"
     ]
    }
   ],
   "source": [
    "event = 'SPEECH'\n",
    "pipeline = [\n",
    "    {\n",
    "        '$unwind': {'path': \"$events\"}\n",
    "    }, \n",
    "    {\n",
    "        '$project': {'events': 1, '_id': 0}\n",
    "    },\n",
    "    {\n",
    "        '$match': {\"events.label\": \"{}\".format(event)}\n",
    "    },\n",
    "    {\n",
    "        '$unwind': {'path': \"$events.roles\"}\n",
    "    },\n",
    "    {\n",
    "        '$group': {'_id': \"$events.roles.label\", 'count': {'$sum': 1}}\n",
    "    },\n",
    "    {\n",
    "        '$sort': {'count': -1}\n",
    "    }\n",
    "]\n",
    "roles = list(db.aggregate(pipeline))\n",
    "for record in roles[:10]:\n",
    "    print(record)"
   ]
  },
  {
   "cell_type": "code",
   "execution_count": null,
   "metadata": {},
   "outputs": [],
   "source": []
  }
 ],
 "metadata": {
  "kernelspec": {
   "display_name": "basket",
   "language": "python",
   "name": "python3"
  },
  "language_info": {
   "codemirror_mode": {
    "name": "ipython",
    "version": 3
   },
   "file_extension": ".py",
   "mimetype": "text/x-python",
   "name": "python",
   "nbconvert_exporter": "python",
   "pygments_lexer": "ipython3",
   "version": "3.9.17"
  }
 },
 "nbformat": 4,
 "nbformat_minor": 2
}
